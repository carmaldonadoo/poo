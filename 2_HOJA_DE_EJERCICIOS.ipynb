{
  "cells": [
    {
      "cell_type": "markdown",
      "metadata": {
        "id": "view-in-github",
        "colab_type": "text"
      },
      "source": [
        "<a href=\"https://colab.research.google.com/github/carmaldonadoo/poo/blob/main/2_HOJA_DE_EJERCICIOS.ipynb\" target=\"_parent\"><img src=\"https://colab.research.google.com/assets/colab-badge.svg\" alt=\"Open In Colab\"/></a>"
      ]
    },
    {
      "cell_type": "markdown",
      "metadata": {
        "id": "RXPWD0Ewxeia"
      },
      "source": [
        "HOJA DE EJERCICIOS 2.\n"
      ]
    },
    {
      "cell_type": "markdown",
      "metadata": {
        "id": "7w4s9Rcwxeic"
      },
      "source": [
        "Ejercicio\n",
        "\n",
        "1. Crea una clase llamada Estrella con tres coordenadas ,  y .\n",
        "\n",
        "2. Añade un método constructor para generar estrellas fácilmente. Si no se reciben coordenadas, las coordenadas por defecto serán cero.\n",
        "\n",
        "3. Implementa el método __str__ para que al imprimir la estrella, las coordenadas aparezcan en el formato .\n",
        "\n",
        "4. Agrega un método galaxia para determinar en qué galaxia del universo podría estar ubicada la estrella basada en sus coordenadas.\n",
        "\n",
        "5. Implementa un método distancia para calcular la distancia entre dos estrellas usando la fórmula de distancia en el espacio 3D.\n",
        "\n",
        "Nota: Para el cálculo de la distancia, puedes usar la raíz cuadrada que se encuentra en el módulo math de Python: import math; math.sqrt()."
      ]
    },
    {
      "cell_type": "code",
      "execution_count": null,
      "metadata": {
        "id": "C382ZgaMxeid",
        "outputId": "258059a4-4f20-48c5-8e39-b01d2933734b"
      },
      "outputs": [
        {
          "name": "stdout",
          "output_type": "stream",
          "text": [
            "Estrella 1: (3, 4, 5)\n",
            "Estrella 2: (0, 0, 0)\n",
            "Galaxia de Estrella 1: Vía Láctea\n",
            "Galaxia de Estrella 2: Vía Láctea\n",
            "Distancia entre Estrella 1 y Estrella 2: 7.0710678118654755\n"
          ]
        }
      ],
      "source": [
        "\n",
        "class Estrella:\n",
        "    def __init__(self, x=0, y=0, z=0):\n",
        "        self.x = x\n",
        "        self.y = y\n",
        "        self.z = z\n",
        "\n",
        "    def __str__(self):\n",
        "        return f'({self.x}, {self.y}, {self.z})'\n",
        "\n",
        "    def galaxia(self):\n",
        "        if self.x < 0:\n",
        "            return \"Galaxia Andrómeda\"\n",
        "        else:\n",
        "            return \"Vía Láctea\"\n",
        "\n",
        "    def distancia(self, otra_estrella):\n",
        "        # Calcula la distancia entre dos estrellas usando la fórmula de distancia en el espacio 3D\n",
        "        # Bucar formula de distacia entre la distacia, entre, la primera estrella menos la segunda entrella.\n",
        "        dx = self.x - otra_estrella.x\n",
        "        dy = self.y - otra_estrella.y\n",
        "        dz = self.z - otra_estrella.z\n",
        "        distancia = math.sqrt(dx**2 + dy**2 + dz**2)\n",
        "        return distancia\n",
        "\n",
        "\n",
        "\n",
        "# Ejemplos\n",
        "estrella1 = Estrella(3, 4, 5)\n",
        "estrella2 = Estrella(0, 0, 0)\n",
        "\n",
        "print(\"Estrella 1:\", estrella1)\n",
        "print(\"Estrella 2:\", estrella2)\n",
        "\n",
        "print(\"Galaxia de Estrella 1:\", estrella1.galaxia())\n",
        "print(\"Galaxia de Estrella 2:\", estrella2.galaxia())\n",
        "\n",
        "distancia_entre_estrellas = estrella1.distancia(estrella2)\n",
        "print(\"Distancia entre Estrella 1 y Estrella 2:\", distancia_entre_estrellas)"
      ]
    },
    {
      "cell_type": "markdown",
      "metadata": {
        "id": "vVZtcfAIxeie"
      },
      "source": [
        "Ejercicio 2: El Diálogo Zen\n",
        "Tu tarea es transformar un texto en bruto en una conversación formateada sin cambiar directamente el texto. Utiliza tus habilidades en el manejo de cadenas y listas en Python para hacerlo más legible.\n",
        "\n",
        "Texto original:\n",
        "\n",
        "un día que el viento soplaba con fuerza#mira como se mueve aquella banderola -dijo un monje#lo que se mueve es el viento -respondió otro monje#ni las banderolas ni el viento, lo que se mueve son vuestras mentes -dijo el maestro\n",
        "\n",
        "Resultado deseado:\n",
        "\n",
        "Un día que el viento soplaba con fuerza...\n",
        "\n",
        "Mira como se mueve aquella banderola -dijo un monje.\n",
        "Lo que se mueve es el viento -respondió otro monje.\n",
        "Ni las banderolas ni el viento, lo que se mueve son vuestras mentes -dijo el maestro."
      ]
    },
    {
      "cell_type": "code",
      "execution_count": null,
      "metadata": {
        "id": "sUDmOrLWxeie",
        "outputId": "91e97ba9-d892-4979-b887-d03e55b3411c"
      },
      "outputs": [
        {
          "name": "stdout",
          "output_type": "stream",
          "text": [
            "Un día que el viento soplaba con fuerza\n",
            "Mira como se mueve aquella banderola -dijo un monje\n",
            "Lo que se mueve es el viento -respondió otro monje\n",
            "Ni las banderolas ni el viento, lo que se mueve son vuestras mentes -dijo el maestro\n"
          ]
        }
      ],
      "source": [
        "texto_original = \"un día que el viento soplaba con fuerza#mira como se mueve aquella banderola -dijo un monje#lo que se mueve es el viento -respondió otro monje#ni las banderolas ni el viento, lo que se mueve son vuestras mentes -dijo el maestro\"\n",
        "\n",
        "# Reemplazar \"#\" por \"\\n\" para separar las líneas\n",
        "texto_formateado = texto_original.replace(\"#\", \"\\n\")\n",
        "\n",
        "# Capitalizar la primera letra de cada oración\n",
        "lineas = texto_formateado.split(\"\\n\")\n",
        "lineas_capitalizadas = [linea.capitalize() for linea in lineas]\n",
        "\n",
        "# Unir las líneas nuevamente\n",
        "texto_final = \"\\n\".join(lineas_capitalizadas)\n",
        "\n",
        "print(texto_final)"
      ]
    },
    {
      "cell_type": "markdown",
      "metadata": {
        "id": "AQjAjPc4xeie"
      },
      "source": [
        "Crea una función llamada magia_numerica() que realice varias transformaciones en una lista de números sin modificar la lista original. Las tareas son las siguientes:\n",
        "\n",
        "1. Eliminar los elementos duplicados.\n",
        "2. Ordenar la lista de mayor a menor.\n",
        "3. Eliminar todos los números impares.\n",
        "4. Sumar todos los números que quedan.\n",
        "5. Colocar esta suma como el primer elemento de la lista.\n",
        "\n",
        "Verifica que la suma de todos los números a partir del segundo elemento es igual al primer número de la lista."
      ]
    },
    {
      "cell_type": "code",
      "execution_count": null,
      "metadata": {
        "id": "H0x7S9q6xeif",
        "outputId": "f264a711-5661-4cba-ef3c-c796c8d71668"
      },
      "outputs": [
        {
          "name": "stdout",
          "output_type": "stream",
          "text": [
            "Lista final: [8, 6, 2]\n",
            "La suma de los elementos, es igual al primer elemento: True\n"
          ]
        }
      ],
      "source": [
        "def magia_numerica(lista):\n",
        "    lista_unicos=[]\n",
        "    for num in lista:\n",
        "        if num not in lista_unicos:\n",
        "            lista_unicos.append(num)\n",
        "\n",
        "    lista_unicos = sorted(lista_unicos, reverse=True)\n",
        "\n",
        "    lista_pares = [num for num in lista_unicos if num % 2 == 0]\n",
        "\n",
        "    suma = sum(lista_pares)\n",
        "\n",
        "    lista_final = [suma] + lista_pares\n",
        "\n",
        "    return lista_final\n",
        "\n",
        "def verifica_suma(lista):\n",
        "    suma_elementos = sum(lista[1:])\n",
        "    return suma_elementos == lista[0]\n",
        "\n",
        "ejemplo_lista = [2,3,3,1,5,6,7]\n",
        "resultado = magia_numerica(ejemplo_lista)\n",
        "print(\"Lista final:\", resultado)\n",
        "print(\"La suma de los elementos, es igual al primer elemento:\", verifica_suma(resultado))\n"
      ]
    }
  ],
  "metadata": {
    "kernelspec": {
      "display_name": "Python 3",
      "language": "python",
      "name": "python3"
    },
    "language_info": {
      "codemirror_mode": {
        "name": "ipython",
        "version": 3
      },
      "file_extension": ".py",
      "mimetype": "text/x-python",
      "name": "python",
      "nbconvert_exporter": "python",
      "pygments_lexer": "ipython3",
      "version": "3.9.12"
    },
    "orig_nbformat": 4,
    "colab": {
      "provenance": [],
      "include_colab_link": true
    }
  },
  "nbformat": 4,
  "nbformat_minor": 0
}